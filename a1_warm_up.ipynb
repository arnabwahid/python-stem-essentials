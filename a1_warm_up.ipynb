{
  "nbformat": 4,
  "nbformat_minor": 0,
  "metadata": {
    "colab": {
      "provenance": [],
      "authorship_tag": "ABX9TyNxSYyFVqFXolDc1Rm4nAK1",
      "include_colab_link": true
    },
    "kernelspec": {
      "name": "python3",
      "display_name": "Python 3"
    },
    "language_info": {
      "name": "python"
    }
  },
  "cells": [
    {
      "cell_type": "markdown",
      "metadata": {
        "id": "view-in-github",
        "colab_type": "text"
      },
      "source": [
        "<a href=\"https://colab.research.google.com/github/arnabwahid/python-stem-essentials/blob/main/a1_warm_up.ipynb\" target=\"_parent\"><img src=\"https://colab.research.google.com/assets/colab-badge.svg\" alt=\"Open In Colab\"/></a>"
      ]
    },
    {
      "cell_type": "code",
      "source": [
        "# Q1. Using a for loop calculate the sum of the 4th powers of consecutive integers 1 through n\n",
        "n = 10\n",
        "sum = 0\n",
        "for i in range(1, n+1):\n",
        "  sum += i**4\n",
        "print (sum)"
      ],
      "metadata": {
        "colab": {
          "base_uri": "https://localhost:8080/"
        },
        "id": "3JQ0ZnMDnvXW",
        "outputId": "d152678a-cc34-485c-ca1c-31603b5402af"
      },
      "execution_count": null,
      "outputs": [
        {
          "output_type": "stream",
          "name": "stdout",
          "text": [
            "25333\n"
          ]
        }
      ]
    },
    {
      "cell_type": "code",
      "source": [
        "# Q2. Define a python function compute_sum that takes in an argument n and returns the sum of the 4th powers of consecutive integers 1 through n.\n",
        "# Evaluate this function for the following values of n: 2, 3, 5, 10.\n",
        "\n",
        "def compute_sum(n):\n",
        "  sum = 0\n",
        "  for i in range(1, n+1):\n",
        "    sum += i**4\n",
        "  return sum\n",
        "print (compute_sum(2), compute_sum(3), compute_sum(5), compute_sum(10))"
      ],
      "metadata": {
        "colab": {
          "base_uri": "https://localhost:8080/"
        },
        "id": "p0B2ffaCpWEi",
        "outputId": "1a9f8846-7811-4058-ff73-fc2a68efee15"
      },
      "execution_count": null,
      "outputs": [
        {
          "output_type": "stream",
          "name": "stdout",
          "text": [
            "17 98 979 25333\n"
          ]
        }
      ]
    },
    {
      "cell_type": "code",
      "source": [
        "# Q3. Write a python function divisible_by_27 that takes in an argument n and returns the boolean True if n is divisible by 27,\n",
        "# and the boolean False if it is not divisible by 27.\n",
        "\n",
        "def divisible_by_27(n):\n",
        "  return True if n % 27 == 0 else False\n",
        "divisible_by_27(5)"
      ],
      "metadata": {
        "colab": {
          "base_uri": "https://localhost:8080/"
        },
        "id": "8yh814Hwr2Ph",
        "outputId": "4227bac0-d3f3-4ec3-92d0-70964e6a4f56"
      },
      "execution_count": null,
      "outputs": [
        {
          "output_type": "execute_result",
          "data": {
            "text/plain": [
              "False"
            ]
          },
          "metadata": {},
          "execution_count": 51
        }
      ]
    },
    {
      "cell_type": "code",
      "source": [
        "# Q4. Using the results from questions 2 and 3, find the smallest value of n such that return of Q2 is divisible by 27.\n",
        "n = 1\n",
        "while divisible_by_27(compute_sum(n)) == False:\n",
        "  n +=1\n",
        "print (n)"
      ],
      "metadata": {
        "colab": {
          "base_uri": "https://localhost:8080/"
        },
        "id": "8KgzGHXUtxfP",
        "outputId": "c610109d-b69a-420b-a4bb-333d2a1d4e42"
      },
      "execution_count": null,
      "outputs": [
        {
          "output_type": "stream",
          "name": "stdout",
          "text": [
            "40\n"
          ]
        }
      ]
    },
    {
      "cell_type": "code",
      "source": [
        "# Q5. Write a python function sum_divisible_by_m that takes in an argument m,\n",
        "# and returns the smallest value of n such that reutrn of Q2 is divisible by m.\n",
        "def sum_divisible_by_m(m):\n",
        "  n = 1\n",
        "  while compute_sum(n) % m != 0:\n",
        "    n += 1\n",
        "  return n\n",
        "sum_divisible_by_m(345)"
      ],
      "metadata": {
        "colab": {
          "base_uri": "https://localhost:8080/"
        },
        "id": "rci7JJe3wkvM",
        "outputId": "2204e672-6a1f-4633-8ab2-7bb84e031fba"
      },
      "execution_count": null,
      "outputs": [
        {
          "output_type": "execute_result",
          "data": {
            "text/plain": [
              "206"
            ]
          },
          "metadata": {},
          "execution_count": 75
        }
      ]
    }
  ]
}